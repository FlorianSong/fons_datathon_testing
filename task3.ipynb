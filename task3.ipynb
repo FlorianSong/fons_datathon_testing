{
 "cells": [
  {
   "cell_type": "markdown",
   "metadata": {},
   "source": [
    "# task 3"
   ]
  },
  {
   "cell_type": "code",
   "execution_count": 19,
   "metadata": {},
   "outputs": [],
   "source": [
    "import pandas as pd\n",
    "import numpy as np\n",
    "import matplotlib.pyplot as plt\n",
    "from sklearn import *\n",
    "import matplotlib as mpl \n",
    "mpl.rcParams['figure.dpi'] = 300    \n",
    "from sklearn.metrics import make_scorer"
   ]
  },
  {
   "cell_type": "code",
   "execution_count": 20,
   "metadata": {},
   "outputs": [],
   "source": [
    "#generic input training\n",
    "train_descriptors = pd.read_csv(\"train_descriptors.csv\")\n",
    "train_mord3d = pd.read_csv(\"train_mord3d.csv\")\n",
    "train_morgan = pd.read_csv(\"train_morgan.csv\")\n",
    "train_rdk = pd.read_csv(\"train_rdk.csv\")\n",
    "\n",
    "#crystal structures\n",
    "train_crystals = pd.read_csv(\"train_crystals.csv\")\n",
    "#atom distance data in crystal structures\n",
    "train_distances = pd.read_csv(\"train_distances.csv\")\n",
    "#centroid distance data in crystal structures\n",
    "train_centroid_distances = pd.read_csv(\"train_centroid_distances.csv\")\n",
    "\n",
    "test_descriptors = pd.read_csv(\"test_descriptors.csv\")\n",
    "test_mord3d = pd.read_csv(\"test_mord3d.csv\")\n",
    "test_morgan = pd.read_csv(\"test_morgan.csv\")\n",
    "test_rdk = pd.read_csv(\"test_rdk.csv\")\n",
    "\n",
    "#need to predict density of structure\n",
    "\n",
    "#centrosymmetric, and density is here\n",
    "train_crystals.keys()\n",
    "train_centrosymmetric = train_crystals[\"is_centrosymmetric\"]\n",
    "train_density = train_crystals[\"calculated_density\"]\n",
    "\n",
    "#van der Waal contacts is in train distances\n",
    "\n",
    "train_distances.keys()\n",
    "train_VDW = train_distances[\"n_vdw_contacts\"]\n",
    "\n",
    "#centroid distances are here\n",
    "\n",
    "train_centroid_distances.keys()\n",
    "\n",
    "train_centroid = train_centroid_distances[\"mean\"]\n",
    "\n",
    "train_descriptors_full = train_descriptors.iloc[:, 3:-2].dropna(axis= 1, how=\"any\")\n",
    "test_descriptors_full = test_descriptors[train_descriptors_full.columns]"
   ]
  },
  {
   "cell_type": "code",
   "execution_count": 21,
   "metadata": {},
   "outputs": [],
   "source": [
    "dropable_columns = []"
   ]
  },
  {
   "cell_type": "code",
   "execution_count": 22,
   "metadata": {},
   "outputs": [],
   "source": [
    "#need to predict density of structure\n",
    "\n",
    "#train_centrosymmetric\n",
    "#train_density\n",
    "#train_VDW \n",
    "#train_centroid "
   ]
  },
  {
   "cell_type": "code",
   "execution_count": 23,
   "metadata": {},
   "outputs": [],
   "source": [
    "train_descriptors_full = train_descriptors.iloc[:, 3:-2].dropna(axis= 1, how=\"any\")\n",
    "test_descriptors_full = test_descriptors[train_descriptors_full.columns]\n",
    "\n",
    "for i in train_descriptors_full:\n",
    "    N_uniques = train_descriptors_full[i].unique()\n",
    "    if len(N_uniques) < 2:\n",
    "        dropable_columns.append(i)\n",
    "\n",
    "train_descriptors_full = train_descriptors_full.drop(columns=dropable_columns)\n",
    "test_descriptors_full = test_descriptors_full.drop(columns=dropable_columns)"
   ]
  },
  {
   "cell_type": "code",
   "execution_count": 24,
   "metadata": {},
   "outputs": [],
   "source": [
    "from sklearn.model_selection import train_test_split\n",
    "\n",
    "X_train_final,X_test_final,y_train_final,y_test_final=  train_test_split(\n",
    "            train_descriptors_full,train_centroid, test_size = 0.2,\n",
    "            random_state= 42)\n",
    "\n",
    "X_train,X_test,y_train,y_test=  train_test_split(\n",
    "            X_train_final,y_train_final, test_size = 0.2,\n",
    "            random_state= 42)"
   ]
  },
  {
   "cell_type": "code",
   "execution_count": 26,
   "metadata": {},
   "outputs": [
    {
     "name": "stdout",
     "output_type": "stream",
     "text": [
      "Average negative MAE: -0.271\n",
      "Standard deviation: 0.005\n"
     ]
    }
   ],
   "source": [
    "ss = preprocessing.StandardScaler()\n",
    "ss.fit(train_descriptors_full)\n",
    "\n",
    "X_train_ss = ss.transform(train_descriptors_full)\n",
    "model_ridge_ss = linear_model.RidgeCV()\n",
    "model_ridge_ss.fit(X_train_ss, train_centroid)\n",
    "cv_scores = model_selection.cross_val_score(\n",
    "    model_ridge_ss, \n",
    "    X_train_ss, \n",
    "    train_centroid, \n",
    "    scoring=\"neg_mean_absolute_error\")\n",
    "\n",
    "print(\"Average negative MAE:\", round(np.mean(cv_scores), 3))\n",
    "print(\"Standard deviation:\", round(np.std(cv_scores), 3))"
   ]
  },
  {
   "cell_type": "code",
   "execution_count": 29,
   "metadata": {},
   "outputs": [
    {
     "name": "stdout",
     "output_type": "stream",
     "text": [
      "-0.2592770004716582\n"
     ]
    }
   ],
   "source": [
    "print (-metrics.mean_absolute_error(train_centroid,model_ridge_ss.predict(X_train_ss)))"
   ]
  },
  {
   "cell_type": "code",
   "execution_count": 33,
   "metadata": {},
   "outputs": [],
   "source": [
    "predictions = model_ridge_ss.predict(ss.transform(test_descriptors_full))"
   ]
  },
  {
   "cell_type": "code",
   "execution_count": 37,
   "metadata": {},
   "outputs": [
    {
     "data": {
      "text/plain": [
       "12.321133088570932"
      ]
     },
     "execution_count": 37,
     "metadata": {},
     "output_type": "execute_result"
    }
   ],
   "source": [
    "max(train_centroid)"
   ]
  },
  {
   "cell_type": "code",
   "execution_count": 38,
   "metadata": {},
   "outputs": [
    {
     "data": {
      "text/plain": [
       "3.1282834054301007"
      ]
     },
     "execution_count": 38,
     "metadata": {},
     "output_type": "execute_result"
    }
   ],
   "source": [
    "min(train_centroid)"
   ]
  },
  {
   "cell_type": "code",
   "execution_count": 39,
   "metadata": {},
   "outputs": [
    {
     "data": {
      "text/plain": [
       "43.01394062979135"
      ]
     },
     "execution_count": 39,
     "metadata": {},
     "output_type": "execute_result"
    }
   ],
   "source": [
    "max(predictions)"
   ]
  },
  {
   "cell_type": "code",
   "execution_count": 41,
   "metadata": {},
   "outputs": [
    {
     "data": {
      "text/plain": [
       "3.8908674850217193"
      ]
     },
     "execution_count": 41,
     "metadata": {},
     "output_type": "execute_result"
    }
   ],
   "source": [
    "min(predictions)"
   ]
  },
  {
   "cell_type": "code",
   "execution_count": 46,
   "metadata": {},
   "outputs": [],
   "source": [
    "predictions[np.argwhere(predictions>16)[0]] = np.mean(train_centroid)"
   ]
  },
  {
   "cell_type": "code",
   "execution_count": 47,
   "metadata": {},
   "outputs": [],
   "source": [
    "np.savetxt(\"task_3_predictions.csv\",predictions)"
   ]
  },
  {
   "cell_type": "markdown",
   "metadata": {},
   "source": [
    "### Data pre-processing"
   ]
  },
  {
   "cell_type": "markdown",
   "metadata": {},
   "source": [
    "### Outputting predictions for automated checking \n",
    "Link: https://github.com/stevenkbennett/fons_datathon_testing"
   ]
  },
  {
   "cell_type": "code",
   "execution_count": 10,
   "metadata": {},
   "outputs": [],
   "source": [
    "predictions = model.predict(test_descriptors_PCA)"
   ]
  },
  {
   "cell_type": "code",
   "execution_count": 11,
   "metadata": {},
   "outputs": [],
   "source": [
    "np.savetxt(\"task_x_predictions.csv\", predictions)\n",
    "# Alternatively, if using pandas, you can use the following:\n",
    "pd.DataFrame(predictions).to_csv(\"task_x_predictions.csv\", header=False, index=False)"
   ]
  },
  {
   "cell_type": "code",
   "execution_count": null,
   "metadata": {},
   "outputs": [],
   "source": []
  },
  {
   "cell_type": "code",
   "execution_count": null,
   "metadata": {},
   "outputs": [],
   "source": []
  }
 ],
 "metadata": {
  "kernelspec": {
   "display_name": "Python 3",
   "language": "python",
   "name": "python3"
  },
  "language_info": {
   "codemirror_mode": {
    "name": "ipython",
    "version": 3
   },
   "file_extension": ".py",
   "mimetype": "text/x-python",
   "name": "python",
   "nbconvert_exporter": "python",
   "pygments_lexer": "ipython3",
   "version": "3.8.3"
  }
 },
 "nbformat": 4,
 "nbformat_minor": 5
}
