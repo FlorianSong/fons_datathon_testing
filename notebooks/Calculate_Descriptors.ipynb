{
 "cells": [
  {
   "cell_type": "markdown",
   "metadata": {},
   "source": [
    "## Notebook for calculating various molecular desciptors"
   ]
  },
  {
   "cell_type": "code",
   "execution_count": 104,
   "metadata": {},
   "outputs": [],
   "source": [
    "# Imports\n",
    "from rdkit import Chem, RDLogger\n",
    "from rdkit.Chem import AllChem\n",
    "import os\n",
    "from mordred import Calculator, descriptors\n",
    "import pandas as pd\n",
    "from more_itertools import chunked\n",
    "from tqdm.notebook import tqdm\n",
    "import numpy as np\n",
    "# Capturing RDKit errors\n",
    "from io import StringIO\n",
    "import sys\n",
    "# For DScribe descriptors\n",
    "from ase import io\n",
    "from dscribe import descriptors\n",
    "from collections import defaultdict"
   ]
  },
  {
   "cell_type": "code",
   "execution_count": 59,
   "metadata": {},
   "outputs": [],
   "source": [
    "def mol2_to_mol(file=None, sanitize=True):\n",
    "    mols={}\n",
    "    with open(file, 'r') as f:\n",
    "        line =f.readline()\n",
    "        # Counter represents the unique index for molecules.\n",
    "        counter = 0\n",
    "        while not f.tell() == os.fstat(f.fileno()).st_size:\n",
    "            if line.startswith(\"@<TRIPOS>MOLECULE\"):\n",
    "                mol = []\n",
    "                mol.append(line)\n",
    "                line = f.readline()\n",
    "                while not line.startswith(\"@<TRIPOS>MOLECULE\"):\n",
    "                    mol.append(line)\n",
    "                    line = f.readline()\n",
    "                    if f.tell() == os.fstat(f.fileno()).st_size:\n",
    "                        mol.append(line)\n",
    "                        break\n",
    "                mol[-1] = mol[-1].rstrip() # removes blank line at file end\n",
    "                block = \",\".join(mol).replace(',','')\n",
    "                m=Chem.MolFromMol2Block(block, sanitize=sanitize, removeHs=False)\n",
    "            if m is not None:\n",
    "                mols[counter] = m\n",
    "            counter += 1\n",
    "    return mols"
   ]
  },
  {
   "cell_type": "code",
   "execution_count": 60,
   "metadata": {},
   "outputs": [],
   "source": [
    "def parse_molecules(mols):\n",
    "    # Removes molecules that generate warnings when parsing through RDKit\n",
    "    # This could lead to incorrect values depending on how the descriptor\n",
    "    # is calculated.\n",
    "    working_mols = {}\n",
    "    nonworking_mols = {}\n",
    "    sio = sys.stderr = StringIO()\n",
    "    for idx, mol in mols.items():\n",
    "        Chem.SanitizeMol(mol)\n",
    "        res = sio.getvalue()\n",
    "        if 'WARNING' in res:\n",
    "            nonworking_mols[idx] = mol\n",
    "            print(res)\n",
    "            # Reset stderr\n",
    "            sio = sys.stderr = StringIO()\n",
    "        else:\n",
    "            working_mols[idx] = mol\n",
    "            sio = sys.stderr = StringIO()\n",
    "    return working_mols, nonworking_mols\n",
    "\n",
    "def calculate_descriptors_pandas(mols, check_mols=True):\n",
    "    # Calculates 2D and 3D descriptors using Mordred.\n",
    "    # Returns a DataFrame containing descriptors.\n",
    "    calc = Calculator(descriptors, ignore_3D=False)\n",
    "    if check_mols:\n",
    "        mols, _ = parse_molecules(mols)\n",
    "    df = calc.pandas(list(mols.values()), ipynb=True, quiet=False)\n",
    "    df.index.name = 'Molecule_Number'\n",
    "    df['SMILES'] = [Chem.MolToSmiles(m) for m in list(mols.values())]\n",
    "    df['RDKit_Molecule'] = [m for m in list(mols.values())]\n",
    "    df.index = list(mols.keys())\n",
    "    return df"
   ]
  },
  {
   "cell_type": "code",
   "execution_count": 61,
   "metadata": {
    "scrolled": true
   },
   "outputs": [
    {
     "name": "stdout",
     "output_type": "stream",
     "text": [
      "RDKit WARNING: [21:56:55] sanitise [21:56:55] 01: [21:56:56] WARNING: could not find number of expected rings. Switching to an approximate ring finding algorithm.\n",
      "\n",
      "RDKit WARNING: [21:56:56] WARNING: could not find number of expected rings. Switching to an approximate ring finding algorithm.\n",
      "\n",
      "RDKit WARNING: [21:56:56] WARNING: could not find number of expected rings. Switching to an approximate ring finding algorithm.\n",
      "\n",
      "RDKit WARNING: [21:56:56] WARNING: could not find number of expected rings. Switching to an approximate ring finding algorithm.\n",
      "\n",
      "RDKit WARNING: [21:56:56] WARNING: could not find number of expected rings. Switching to an approximate ring finding algorithm.\n",
      "\n",
      "RDKit WARNING: [21:56:56] WARNING: could not find number of expected rings. Switching to an approximate ring finding algorithm.\n",
      "\n",
      "RDKit WARNING: [21:56:56] WARNING: could not find number of expected rings. Switching to an approximate ring finding algorithm.\n",
      "\n",
      "RDKit WARNING: [21:56:56] WARNING: could not find number of expected rings. Switching to an approximate ring finding algorithm.\n",
      "\n",
      "RDKit WARNING: [21:56:56] WARNING: could not find number of expected rings. Switching to an approximate ring finding algorithm.\n",
      "\n",
      "RDKit WARNING: [21:56:56] WARNING: could not find number of expected rings. Switching to an approximate ring finding algorithm.\n",
      "\n",
      "RDKit WARNING: [21:56:56] WARNING: could not find number of expected rings. Switching to an approximate ring finding algorithm.\n",
      "\n",
      "RDKit WARNING: [21:56:57] WARNING: could not find number of expected rings. Switching to an approximate ring finding algorithm.\n",
      "\n",
      "RDKit WARNING: [21:56:57] WARNING: could not find number of expected rings. Switching to an approximate ring finding algorithm.\n",
      "\n",
      "RDKit WARNING: [21:56:57] WARNING: could not find number of expected rings. Switching to an approximate ring finding algorithm.\n",
      "\n",
      "RDKit WARNING: [21:56:57] WARNING: could not find number of expected rings. Switching to an approximate ring finding algorithm.\n",
      "\n",
      "RDKit WARNING: [21:56:57] WARNING: could not find number of expected rings. Switching to an approximate ring finding algorithm.\n",
      "\n"
     ]
    },
    {
     "data": {
      "application/vnd.jupyter.widget-view+json": {
       "model_id": "ecccb9633fd7437dafccd703ada9abe9",
       "version_major": 2,
       "version_minor": 0
      },
      "text/plain": [
       "  0%|          | 0/29079 [00:00<?, ?it/s]"
      ]
     },
     "metadata": {},
     "output_type": "display_data"
    }
   ],
   "source": [
    "mols = mol2_to_mol('../small_molecule_search.mol2')\n",
    "df = calculate_descriptors_pandas(mols, check_mols=True)"
   ]
  },
  {
   "cell_type": "code",
   "execution_count": 22,
   "metadata": {},
   "outputs": [],
   "source": [
    "df.to_pickle('Calculated_Descriptors.pkl')"
   ]
  },
  {
   "cell_type": "code",
   "execution_count": 7,
   "metadata": {},
   "outputs": [],
   "source": [
    "df_pickled = pd.read_pickle('Calculated_Descriptors.pkl')"
   ]
  },
  {
   "cell_type": "code",
   "execution_count": 62,
   "metadata": {},
   "outputs": [],
   "source": [
    "df = pd.DataFrame(df)"
   ]
  },
  {
   "cell_type": "code",
   "execution_count": 63,
   "metadata": {},
   "outputs": [],
   "source": [
    "def calculate_fingerprints(mols):\n",
    "    # Converts an RDKit molecule into a fingerprint. \n",
    "    # This function is only given as an example of a fingerprint calculation.\n",
    "    # There are multiple different approaches to calculate molecular fingerprints.\n",
    "    # A radius 2 and bit length of 1024 was chosen for this calculations.\n",
    "    fps = []\n",
    "    for mol in mols:\n",
    "        fp = np.array(AllChem.GetMorganFingerprintAsBitVect(mol, radius=2, nBits=1024))\n",
    "        fps.append(fp)\n",
    "    return fps"
   ]
  },
  {
   "cell_type": "code",
   "execution_count": 64,
   "metadata": {},
   "outputs": [],
   "source": [
    "df['Fingerprints'] = calculate_fingerprints(df['RDKit_Molecule'])"
   ]
  },
  {
   "cell_type": "code",
   "execution_count": 132,
   "metadata": {},
   "outputs": [],
   "source": [
    "# Calculating DScribe descriptors\n",
    "def calculate_dscribe_descriptors(mols):\n",
    "    dscribe_descriptors = defaultdict(list)\n",
    "    for mol in tqdm(mols):\n",
    "        mol_block = StringIO(Chem.MolToMolBlock(mol))\n",
    "        ase_mol = ase.io.mol.read_mol(mol_block)\n",
    "        unique_species = list(set(ase_mol.get_chemical_symbols()))\n",
    "        # Setting up the DScribe descriptors\n",
    "        # The parameters for all these descriptors are unoptimised.\n",
    "        cm = descriptors.CoulombMatrix(\n",
    "            n_atoms_max=1000,\n",
    "        )\n",
    "        cm_result = cm.create(ase_mol, n_jobs=-1)\n",
    "        sm = descriptors.SineMatrix(\n",
    "            n_atoms_max=1000,\n",
    "            permutation=\"sorted_l2\",\n",
    "            sparse=False,\n",
    "            flatten=True\n",
    "        )\n",
    "        sm_result = cm.create(ase_mol, n_jobs=-1)\n",
    "        dscribe_descriptors['Coulomb_Matrix'].append(cm_result)\n",
    "        dscribe_descriptors['Sine_Matrix'].append(sm_result)\n",
    "    return dscribe_descriptors\n",
    "\n",
    "    "
   ]
  },
  {
   "cell_type": "code",
   "execution_count": 133,
   "metadata": {},
   "outputs": [
    {
     "data": {
      "application/vnd.jupyter.widget-view+json": {
       "model_id": "6f7bc0350d4d4e3fa047b44827f2d500",
       "version_major": 2,
       "version_minor": 0
      },
      "text/plain": [
       "  0%|          | 0/29079 [00:00<?, ?it/s]"
      ]
     },
     "metadata": {},
     "output_type": "display_data"
    }
   ],
   "source": [
    "dscribe_descriptors = calculate_dscribe_descriptors(df['RDKit_Molecule'].to_list())"
   ]
  },
  {
   "cell_type": "code",
   "execution_count": 135,
   "metadata": {},
   "outputs": [
    {
     "data": {
      "text/html": [
       "<div>\n",
       "<style scoped>\n",
       "    .dataframe tbody tr th:only-of-type {\n",
       "        vertical-align: middle;\n",
       "    }\n",
       "\n",
       "    .dataframe tbody tr th {\n",
       "        vertical-align: top;\n",
       "    }\n",
       "\n",
       "    .dataframe thead th {\n",
       "        text-align: right;\n",
       "    }\n",
       "</style>\n",
       "<table border=\"1\" class=\"dataframe\">\n",
       "  <thead>\n",
       "    <tr style=\"text-align: right;\">\n",
       "      <th></th>\n",
       "      <th>Coulomb_Matrix</th>\n",
       "      <th>Sine_Matrix</th>\n",
       "    </tr>\n",
       "  </thead>\n",
       "  <tbody>\n",
       "    <tr>\n",
       "      <th>0</th>\n",
       "      <td>[[73.51669471981023, 20.951345335276688, 9.005...</td>\n",
       "      <td>[[73.51669471981023, 20.951345335276688, 9.005...</td>\n",
       "    </tr>\n",
       "    <tr>\n",
       "      <th>1</th>\n",
       "      <td>[[73.51669471981023, 22.856319067860767, 28.74...</td>\n",
       "      <td>[[73.51669471981023, 22.856319067860767, 28.74...</td>\n",
       "    </tr>\n",
       "    <tr>\n",
       "      <th>2</th>\n",
       "      <td>[[388.0234410266618, 89.20065413411893, 89.092...</td>\n",
       "      <td>[[388.0234410266618, 89.20065413411893, 89.092...</td>\n",
       "    </tr>\n",
       "    <tr>\n",
       "      <th>3</th>\n",
       "      <td>[[73.51669471981023, 15.43121044030552, 25.528...</td>\n",
       "      <td>[[73.51669471981023, 15.43121044030552, 25.528...</td>\n",
       "    </tr>\n",
       "    <tr>\n",
       "      <th>4</th>\n",
       "      <td>[[73.51669471981023, 9.361924757951526, 8.9201...</td>\n",
       "      <td>[[73.51669471981023, 9.361924757951526, 8.9201...</td>\n",
       "    </tr>\n",
       "    <tr>\n",
       "      <th>...</th>\n",
       "      <td>...</td>\n",
       "      <td>...</td>\n",
       "    </tr>\n",
       "    <tr>\n",
       "      <th>29074</th>\n",
       "      <td>[[36.85810519942594, 24.78187166552364, 26.537...</td>\n",
       "      <td>[[36.85810519942594, 24.78187166552364, 26.537...</td>\n",
       "    </tr>\n",
       "    <tr>\n",
       "      <th>29075</th>\n",
       "      <td>[[36.85810519942594, 25.683059094169057, 14.98...</td>\n",
       "      <td>[[36.85810519942594, 25.683059094169057, 14.98...</td>\n",
       "    </tr>\n",
       "    <tr>\n",
       "      <th>29076</th>\n",
       "      <td>[[36.85810519942594, 25.574951394660154, 25.97...</td>\n",
       "      <td>[[36.85810519942594, 25.574951394660154, 25.97...</td>\n",
       "    </tr>\n",
       "    <tr>\n",
       "      <th>29077</th>\n",
       "      <td>[[36.85810519942594, 25.550946068413886, 26.02...</td>\n",
       "      <td>[[36.85810519942594, 25.550946068413886, 26.02...</td>\n",
       "    </tr>\n",
       "    <tr>\n",
       "      <th>29078</th>\n",
       "      <td>[[36.85810519942594, 25.710309515743678, 26.00...</td>\n",
       "      <td>[[36.85810519942594, 25.710309515743678, 26.00...</td>\n",
       "    </tr>\n",
       "  </tbody>\n",
       "</table>\n",
       "<p>29079 rows × 2 columns</p>\n",
       "</div>"
      ],
      "text/plain": [
       "                                          Coulomb_Matrix  \\\n",
       "0      [[73.51669471981023, 20.951345335276688, 9.005...   \n",
       "1      [[73.51669471981023, 22.856319067860767, 28.74...   \n",
       "2      [[388.0234410266618, 89.20065413411893, 89.092...   \n",
       "3      [[73.51669471981023, 15.43121044030552, 25.528...   \n",
       "4      [[73.51669471981023, 9.361924757951526, 8.9201...   \n",
       "...                                                  ...   \n",
       "29074  [[36.85810519942594, 24.78187166552364, 26.537...   \n",
       "29075  [[36.85810519942594, 25.683059094169057, 14.98...   \n",
       "29076  [[36.85810519942594, 25.574951394660154, 25.97...   \n",
       "29077  [[36.85810519942594, 25.550946068413886, 26.02...   \n",
       "29078  [[36.85810519942594, 25.710309515743678, 26.00...   \n",
       "\n",
       "                                             Sine_Matrix  \n",
       "0      [[73.51669471981023, 20.951345335276688, 9.005...  \n",
       "1      [[73.51669471981023, 22.856319067860767, 28.74...  \n",
       "2      [[388.0234410266618, 89.20065413411893, 89.092...  \n",
       "3      [[73.51669471981023, 15.43121044030552, 25.528...  \n",
       "4      [[73.51669471981023, 9.361924757951526, 8.9201...  \n",
       "...                                                  ...  \n",
       "29074  [[36.85810519942594, 24.78187166552364, 26.537...  \n",
       "29075  [[36.85810519942594, 25.683059094169057, 14.98...  \n",
       "29076  [[36.85810519942594, 25.574951394660154, 25.97...  \n",
       "29077  [[36.85810519942594, 25.550946068413886, 26.02...  \n",
       "29078  [[36.85810519942594, 25.710309515743678, 26.00...  \n",
       "\n",
       "[29079 rows x 2 columns]"
      ]
     },
     "execution_count": 135,
     "metadata": {},
     "output_type": "execute_result"
    }
   ],
   "source": [
    "pd.DataFrame(dscribe_descriptors)"
   ]
  },
  {
   "cell_type": "code",
   "execution_count": null,
   "metadata": {},
   "outputs": [],
   "source": []
  }
 ],
 "metadata": {
  "kernelspec": {
   "display_name": "FONS_Datathon",
   "language": "python",
   "name": "fonsdatathon"
  },
  "language_info": {
   "codemirror_mode": {
    "name": "ipython",
    "version": 3
   },
   "file_extension": ".py",
   "mimetype": "text/x-python",
   "name": "python",
   "nbconvert_exporter": "python",
   "pygments_lexer": "ipython3",
   "version": "3.7.9"
  }
 },
 "nbformat": 4,
 "nbformat_minor": 5
}
